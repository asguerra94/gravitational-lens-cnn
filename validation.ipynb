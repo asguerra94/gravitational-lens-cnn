{
 "cells": [
  {
   "cell_type": "code",
   "execution_count": 1,
   "metadata": {},
   "outputs": [],
   "source": [
    "import torch\n",
    "import glob\n",
    "\n",
    "import numpy as np\n",
    "import torch.nn as nn\n",
    "\n",
    "from tqdm import tqdm"
   ]
  },
  {
   "cell_type": "code",
   "execution_count": 2,
   "metadata": {},
   "outputs": [],
   "source": [
    "# We highly recommend to use a GPU for train and use this model.\n",
    "\n",
    "device = \"cuda\" if torch.cuda.is_available() else \"cpu\""
   ]
  },
  {
   "cell_type": "markdown",
   "metadata": {},
   "source": [
    "### Load the previously trained model"
   ]
  },
  {
   "cell_type": "code",
   "execution_count": 3,
   "metadata": {},
   "outputs": [],
   "source": [
    "# Define the CNN architecture\n",
    "scale_channel   = 1\n",
    "\n",
    "class Net(nn.Module):\n",
    "    def __init__(self):\n",
    "        super(Net, self).__init__()\n",
    "\n",
    "        self.input    = nn.Sequential(\n",
    "            # 1                                             #3x128x128\n",
    "            nn.Conv2d(3, 12*scale_channel, kernel_size=3),  #12x128x128\n",
    "            nn.Tanh(),\n",
    "            nn.ConvTranspose2d(12*scale_channel, 12*scale_channel, kernel_size=3),\n",
    "            nn.Tanh()\n",
    "        )\n",
    "\n",
    "        self.hidden_1   = nn.Sequential(\n",
    "            # 2\n",
    "            nn.ConvTranspose2d(12*scale_channel, 12*scale_channel, kernel_size=49), #12x176x176\n",
    "            nn.Tanh(),\n",
    "            nn.Conv2d(12*scale_channel, 12*scale_channel, kernel_size=49),  #12x128x128\n",
    "            nn.Tanh()\n",
    "        )\n",
    "\n",
    "        self.hidden_2   = nn.Sequential(\n",
    "            # 3\n",
    "            nn.ConvTranspose2d(12*scale_channel, 12*scale_channel, kernel_size=49),\n",
    "            nn.Tanh(),\n",
    "            nn.Conv2d(12*scale_channel, 12*scale_channel, kernel_size=49),\n",
    "            nn.Tanh()\n",
    "        )\n",
    "\n",
    "        self.hidden_3   = nn.Sequential(\n",
    "            # 4\n",
    "            nn.ConvTranspose2d(12*scale_channel, 12*scale_channel, kernel_size=49),\n",
    "            nn.Tanh(),\n",
    "            nn.Conv2d(12*scale_channel, 12*scale_channel, kernel_size=49),\n",
    "            nn.Tanh()\n",
    "        )\n",
    "\n",
    "        self.hidden_4   = nn.Sequential(\n",
    "            # 5\n",
    "            nn.ConvTranspose2d(12*scale_channel, 12*scale_channel, kernel_size=49),\n",
    "            nn.Tanh(),\n",
    "            nn.Conv2d(12*scale_channel, 12*scale_channel, kernel_size=49),\n",
    "            nn.Tanh()\n",
    "        )\n",
    "\n",
    "        self.output     = nn.Sequential(\n",
    "            # 6\n",
    "            nn.Conv2d(12*scale_channel, 1, kernel_size=1)\n",
    "        )\n",
    "\n",
    "    def forward(self, x):\n",
    "        x1  = self.input(x)\n",
    "        \n",
    "        x2  = self.hidden_1(x1)\n",
    "        x2  = torch.mul(x2, x1)\n",
    "\n",
    "        x3  = self.hidden_2(x2)\n",
    "        x3  = torch.mul(x3, x2)\n",
    "\n",
    "        x4  = self.hidden_3(x3)\n",
    "        x4  = torch.mul(x4, x3)\n",
    "\n",
    "        x5  = self.hidden_4(x4)\n",
    "        x5  = torch.mul(x5, x3)\n",
    "\n",
    "        outputs = self.output(x5)\n",
    "\n",
    "        return outputs\n",
    "    \n",
    "# Prepare our model to implement the given data for train\n",
    "model   = Net()\n",
    "model   = model.to(device=device)"
   ]
  },
  {
   "cell_type": "code",
   "execution_count": null,
   "metadata": {},
   "outputs": [],
   "source": [
    "# Load a previous model for a initial state model\n",
    "\n",
    "if device == \"cuda\":\n",
    "    trained_model = torch.load(\"checkpoint.pth\")\n",
    "else:\n",
    "    trained_model = torch.load('checkpoint.pth', map_location=torch.device('cpu'))\n",
    "\n",
    "model.load_state_dict(trained_model)"
   ]
  },
  {
   "cell_type": "markdown",
   "metadata": {},
   "source": [
    "##### To rank our model into the competition, we download the validation data"
   ]
  },
  {
   "cell_type": "code",
   "execution_count": null,
   "metadata": {},
   "outputs": [],
   "source": [
    "# Download the validation data. Don't forget to decompress the folder\n",
    "\n",
    "url = (\"https://descargas.inf.santiago.usm.cl/test_public.tar.gz\")\n",
    "print(url)"
   ]
  },
  {
   "cell_type": "code",
   "execution_count": null,
   "metadata": {},
   "outputs": [],
   "source": [
    "# Load the test_public to create the validation data\n",
    "\n",
    "file_validation = np.array([])\n",
    "\n",
    "valid_label = glob.glob(f\"test_public/EPSILON/*.npy\")\n",
    "valid_label = np.append(file_validation, valid_label)\n",
    "valid_label.sort()\n",
    "\n",
    "valid_input = np.array([np.load(valid_label[n]) for n in tqdm(range(len(valid_label)))])"
   ]
  },
  {
   "cell_type": "code",
   "execution_count": null,
   "metadata": {},
   "outputs": [],
   "source": [
    "# Save the results in another folder for submit the results\n",
    "\n",
    "validation_number   = valid_input.shape[0]\n",
    "\n",
    "for n in tqdm(range(validation_number)):\n",
    "    tensor_input = torch.Tensor(valid_input[n])\n",
    "    tensor_input = tensor_input.to(device=device)\n",
    "\n",
    "    output  = model(tensor_input)[0]\n",
    "    output  = output.to(device = \"cpu\")\n",
    "    output  = output.detach().numpy()\n",
    "    label   = valid_label[n]\n",
    "    label   = label[20:]\n",
    "    \n",
    "    np.save('qbirds/'+label, output)"
   ]
  }
 ],
 "metadata": {
  "kernelspec": {
   "display_name": "base",
   "language": "python",
   "name": "python3"
  },
  "language_info": {
   "codemirror_mode": {
    "name": "ipython",
    "version": 3
   },
   "file_extension": ".py",
   "mimetype": "text/x-python",
   "name": "python",
   "nbconvert_exporter": "python",
   "pygments_lexer": "ipython3",
   "version": "3.9.13"
  }
 },
 "nbformat": 4,
 "nbformat_minor": 2
}
